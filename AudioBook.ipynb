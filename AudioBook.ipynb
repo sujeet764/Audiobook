{
 "cells": [
  {
   "cell_type": "code",
   "execution_count": 1,
   "metadata": {},
   "outputs": [],
   "source": [
    "import pyttsx3\n",
    "import PyPDF2"
   ]
  },
  {
   "cell_type": "code",
   "execution_count": 2,
   "metadata": {},
   "outputs": [],
   "source": [
    "book = open(\"audiobook dataset/syllabus.pdf\",'rb')"
   ]
  },
  {
   "cell_type": "code",
   "execution_count": 3,
   "metadata": {},
   "outputs": [],
   "source": [
    "pdf_reader = PyPDF2.PdfFileReader(book)"
   ]
  },
  {
   "cell_type": "code",
   "execution_count": 4,
   "metadata": {},
   "outputs": [],
   "source": [
    "pages = pdf_reader.numPages"
   ]
  },
  {
   "cell_type": "code",
   "execution_count": 5,
   "metadata": {},
   "outputs": [],
   "source": [
    "speaker = pyttsx3.init()"
   ]
  },
  {
   "cell_type": "code",
   "execution_count": 7,
   "metadata": {},
   "outputs": [],
   "source": [
    "for num in range(2,pages):\n",
    "    page = pdf_reader.getPage(num)\n",
    "    text = page.extractText()\n",
    "    "
   ]
  },
  {
   "cell_type": "code",
   "execution_count": 8,
   "metadata": {},
   "outputs": [
    {
     "data": {
      "text/plain": [
       "'3.\\n \\nList out the name of the students who had given only \\none \\noption for the \\nadmission. \\n \\n4.\\n \\n\\n\\n \\n5.\\n \\n\\n-\\n\\n \\n6.\\n \\nDisplay the father\\n-\\nname and mother\\n-\\nname of the student who has obtained \\nabove 90% marks in JEE Total Score. \\n \\n7.\\n \\nFind the total number\\n \\nof applications sold out for admission and how many \\nstudents has got the admission into the appropriate programs.\\n \\n8.\\n \\nHow many students has got the admission into the appropriate programs who \\nhave studied in CBSE schools. \\n \\n9.\\n \\nFind the name of the students who ha\\ns got the right admission based on the \\nfirst \\noption that they had given. \\n \\n10.\\n \\nProject the number of students enrolled in each programme\\n. \\n \\n11.\\n \\n\\n-\\n\\nfind that the student has studied \\nthe subject \\n\\n\\nout the name of the students.\\n \\n12.\\n \\nCount that how many students got the admission but they passed HSC in the \\nyear 2018.\\n \\n13.\\n \\n\\nPCM (Physics,Chemistry,Math\\ns) or PCB (Physics,Chemistry,Maths) is less than \\n60%\\n \\n14.\\n \\nList out the Ap\\np\\nlication_No ,Name , Programme_name of the allotted \\ncandidates .\\n \\n15.\\n \\nList out the Ap\\np\\nlication_No ,Name , mobile_no  of the candidate who have not \\neven opted for any course using correlated sub\\n \\nquery.\\n \\n \\n \\n \\n \\n \\n \\n \\n \\n \\n'"
      ]
     },
     "execution_count": 8,
     "metadata": {},
     "output_type": "execute_result"
    }
   ],
   "source": [
    "text"
   ]
  },
  {
   "cell_type": "code",
   "execution_count": null,
   "metadata": {},
   "outputs": [],
   "source": []
  }
 ],
 "metadata": {
  "kernelspec": {
   "display_name": "Python 3",
   "language": "python",
   "name": "python3"
  },
  "language_info": {
   "codemirror_mode": {
    "name": "ipython",
    "version": 3
   },
   "file_extension": ".py",
   "mimetype": "text/x-python",
   "name": "python",
   "nbconvert_exporter": "python",
   "pygments_lexer": "ipython3",
   "version": "3.7.4"
  }
 },
 "nbformat": 4,
 "nbformat_minor": 4
}
